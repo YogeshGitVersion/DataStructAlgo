{
 "cells": [
  {
   "cell_type": "code",
   "execution_count": 72,
   "metadata": {},
   "outputs": [
    {
     "name": "stdout",
     "output_type": "stream",
     "text": [
      "False\n",
      "False A \n",
      "True\n",
      "False B A\n",
      "False\n",
      "False B Ab\n",
      "False\n",
      "False C AbB\n",
      "True\n",
      "True A AbBC\n",
      "True\n",
      "True B AbBCa\n",
      "0\n"
     ]
    }
   ],
   "source": [
    "#word = \"aaAbcBC\"\n",
    "#word = \"abc\"\n",
    "word = \"AbBCab\"\n",
    "#You are given a string word. A letter c is called special if it appears both in lowercase and uppercase in word, and every lowercase occurrence of c appears before the first uppercase occurrence of c.\n",
    "dp = []\n",
    "count = 0\n",
    "for left in range(len(word)):\n",
    "\tright = left + 1\n",
    "\tif word[left].islower() and word[left] not in dp:\n",
    "\t\tif word[left].upper() in word[:left]: count -= 1\n",
    "\t\twhile right < len(word):\n",
    "\t\t\tif word[right].isupper() and word[left]==(word[right].lower()) and left < right:\n",
    "\t\t\t\tcount += 1\n",
    "\t\t\t\tdp.append(word[left])\n",
    "\t\t\t\tbreak\n",
    "\t\t\tright += 1\n",
    "print(count)\n",
    "\n",
    "\n",
    "\n",
    "\t\t\n",
    "\n"
   ]
  },
  {
   "cell_type": "code",
   "execution_count": 82,
   "metadata": {},
   "outputs": [
    {
     "name": "stderr",
     "output_type": "stream",
     "text": [
      "61449.97s - pydevd: Sending message related to process being replaced timed-out after 5 seconds\n"
     ]
    },
    {
     "name": "stdout",
     "output_type": "stream",
     "text": [
      "Collecting numpy\n",
      "  Obtaining dependency information for numpy from https://files.pythonhosted.org/packages/ae/8c/ab03a7c25741f9ebc92684a20125fbc9fc1b8e1e700beb9197d750fdff88/numpy-1.26.4-cp39-cp39-macosx_11_0_arm64.whl.metadata\n",
      "  Downloading numpy-1.26.4-cp39-cp39-macosx_11_0_arm64.whl.metadata (61 kB)\n",
      "\u001b[2K     \u001b[90m━━━━━━━━━━━━━━━━━━━━━━━━━━━━━━━━━━━━━━━━\u001b[0m \u001b[32m61.1/61.1 kB\u001b[0m \u001b[31m1.8 MB/s\u001b[0m eta \u001b[36m0:00:00\u001b[0m\n",
      "\u001b[?25hDownloading numpy-1.26.4-cp39-cp39-macosx_11_0_arm64.whl (14.0 MB)\n",
      "\u001b[2K   \u001b[90m━━━━━━━━━━━━━━━━━━━━━━━━━━━━━━━━━━━━━━━━\u001b[0m \u001b[32m14.0/14.0 MB\u001b[0m \u001b[31m24.5 MB/s\u001b[0m eta \u001b[36m0:00:00\u001b[0m00:01\u001b[0m00:01\u001b[0m\n",
      "\u001b[?25hInstalling collected packages: numpy\n",
      "Successfully installed numpy-1.26.4\n",
      "\n",
      "\u001b[1m[\u001b[0m\u001b[34;49mnotice\u001b[0m\u001b[1;39;49m]\u001b[0m\u001b[39;49m A new release of pip is available: \u001b[0m\u001b[31;49m23.2.1\u001b[0m\u001b[39;49m -> \u001b[0m\u001b[32;49m24.0\u001b[0m\n",
      "\u001b[1m[\u001b[0m\u001b[34;49mnotice\u001b[0m\u001b[1;39;49m]\u001b[0m\u001b[39;49m To update, run: \u001b[0m\u001b[32;49mpip install --upgrade pip\u001b[0m\n"
     ]
    }
   ],
   "source": [
    "!pip install numpy"
   ]
  },
  {
   "cell_type": "code",
   "execution_count": 86,
   "metadata": {},
   "outputs": [],
   "source": [
    "import numpy as np\n",
    "class Solution:\n",
    "    def numberOfSpecialChars(self, word: str) -> int:\n",
    "        lo = np.zeros(26, dtype=bool)\n",
    "        up = np.zeros(26, dtype=bool)\n",
    "\n",
    "        for ch in word:\n",
    "            if ch.islower():\n",
    "                lo[ord(ch) - ord('a')] = not up[ord(ch) - ord('a')]\n",
    "            else:\n",
    "                up[ord(ch) - ord('A')] = True\n",
    "\n",
    "        return np.sum(np.logical_and(lo, up))\n",
    "    \n",
    "word = \"AbBCab\"\n",
    "Sol = Solution()\n",
    "Sol.numberOfSpecialChars(word)"
   ]
  },
  {
   "cell_type": "markdown",
   "metadata": {},
   "source": [
    "A \n",
    "b lo[b-a] = not lo[b-a]  --> lo[1]"
   ]
  },
  {
   "cell_type": "code",
   "execution_count": null,
   "metadata": {},
   "outputs": [
    {
     "data": {
      "text/plain": [
       "1"
      ]
     },
     "execution_count": 78,
     "metadata": {},
     "output_type": "execute_result"
    }
   ],
   "source": [
    "ord('b') - ord('a')"
   ]
  }
 ],
 "metadata": {
  "kernelspec": {
   "display_name": "venv",
   "language": "python",
   "name": "python3"
  },
  "language_info": {
   "codemirror_mode": {
    "name": "ipython",
    "version": 3
   },
   "file_extension": ".py",
   "mimetype": "text/x-python",
   "name": "python",
   "nbconvert_exporter": "python",
   "pygments_lexer": "ipython3",
   "version": "3.9.6"
  }
 },
 "nbformat": 4,
 "nbformat_minor": 2
}
